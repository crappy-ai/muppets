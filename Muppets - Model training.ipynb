{
 "cells": [
  {
   "cell_type": "markdown",
   "metadata": {
    "deletable": true,
    "editable": true
   },
   "source": [
    "# Training a CNN\n",
    "\n",
    "Used this blog as a starting point:\n",
    "\n",
    "http://blog.christianperone.com/2015/08/convolutional-neural-networks-and-feature-extraction-with-python/"
   ]
  },
  {
   "cell_type": "markdown",
   "metadata": {
    "deletable": true,
    "editable": true
   },
   "source": [
    "# Lots of imports"
   ]
  },
  {
   "cell_type": "code",
   "execution_count": 1,
   "metadata": {
    "collapsed": false,
    "deletable": true,
    "editable": true
   },
   "outputs": [
    {
     "name": "stderr",
     "output_type": "stream",
     "text": [
      "Using gpu device 0: NVIDIA Tegra X1 (CNMeM is disabled, cuDNN 5105)\n",
      "/usr/local/lib/python2.7/dist-packages/theano/sandbox/cuda/__init__.py:600: UserWarning: Your cuDNN version is more recent than the one Theano officially supports. If you see any problems, try updating Theano or downgrading cuDNN to version 5.\n",
      "  warnings.warn(warn)\n",
      "/usr/local/lib/python2.7/dist-packages/theano/tensor/signal/downsample.py:6: UserWarning: downsample module has been moved to the theano.tensor.signal.pool module.\n",
      "  \"downsample module has been moved to the theano.tensor.signal.pool module.\")\n",
      "/usr/local/lib/python2.7/dist-packages/sklearn/cross_validation.py:44: DeprecationWarning: This module was deprecated in version 0.18 in favor of the model_selection module into which all the refactored classes and functions are moved. Also note that the interface of the new CV iterators are different from that of this module. This module will be removed in 0.20.\n",
      "  \"This module will be removed in 0.20.\", DeprecationWarning)\n"
     ]
    }
   ],
   "source": [
    "import matplotlib\n",
    "import matplotlib.pyplot as plt\n",
    "import matplotlib.cm     as cm\n",
    "import matplotlib.image  as mpimg\n",
    "%matplotlib inline  \n",
    "\n",
    "from urllib import urlretrieve\n",
    "\n",
    "import cPickle as pickle\n",
    "import os\n",
    "import gzip\n",
    "import numpy as np\n",
    "import theano\n",
    "import lasagne\n",
    "\n",
    "from lasagne import layers\n",
    "from lasagne.updates import nesterov_momentum\n",
    "from nolearn.lasagne import NeuralNet\n",
    "from nolearn.lasagne import visualize\n",
    "from sklearn.metrics import classification_report\n",
    "from sklearn.metrics import confusion_matrix"
   ]
  },
  {
   "cell_type": "markdown",
   "metadata": {
    "collapsed": true,
    "deletable": true,
    "editable": true
   },
   "source": [
    "# Define our dataset loading function\n",
    "\n",
    "The dataset is just a set of images stored in a shallow tree, with the directory signifying the class of the image. The images should all be normalized, using the code in the 'Image normalization' workbook."
   ]
  },
  {
   "cell_type": "code",
   "execution_count": 2,
   "metadata": {
    "collapsed": true,
    "deletable": true,
    "editable": true
   },
   "outputs": [],
   "source": [
    "def load_dataset(base_path):\n",
    "    X            = []\n",
    "    y            = []\n",
    "    class_labels = {}\n",
    "    \n",
    "    for subdir, dirs, files in os.walk(base_path):\n",
    "        for file in files:\n",
    "            file_path  = os.path.join(subdir, file)\n",
    "            image      = mpimg.imread(file_path).astype(np.float32)\n",
    "            class_name = os.path.dirname(file_path).replace(base_path, '', 1)\n",
    "            \n",
    "            if not class_name in class_labels:\n",
    "                class_labels[class_name] = len(class_labels)\n",
    "                \n",
    "            X.append(np.asarray(image))\n",
    "            y.append(class_labels[class_name])\n",
    "    \n",
    "    class_labels_inverted = {v: k for k, v in class_labels.iteritems()}\n",
    "\n",
    "    X = np.array(X).transpose((0,3,1,2))\n",
    "    y = np.array(y)\n",
    "    return X, y, class_labels_inverted"
   ]
  },
  {
   "cell_type": "code",
   "execution_count": 3,
   "metadata": {
    "collapsed": false,
    "deletable": true,
    "editable": true
   },
   "outputs": [],
   "source": [
    "def split_dataset(X, y):\n",
    "    indices = np.random.permutation(len(y))\n",
    "    training_idx, test_idx = indices[:int(len(y) * 0.8)], indices[int(len(y) * 0.8):]\n",
    "    \n",
    "    X_train, y_train = X[training_idx], y[training_idx].astype(np.int32)\n",
    "    X_test,  y_test  = X[test_idx],     y[test_idx].astype(np.int32)\n",
    "\n",
    "    return X_train, y_train, X_test, y_test"
   ]
  },
  {
   "cell_type": "markdown",
   "metadata": {
    "collapsed": true,
    "deletable": true,
    "editable": true
   },
   "source": [
    "Load our dataset and inspect it"
   ]
  },
  {
   "cell_type": "code",
   "execution_count": 4,
   "metadata": {
    "collapsed": false,
    "deletable": true,
    "editable": true
   },
   "outputs": [],
   "source": [
    "X, y, class_labels = load_dataset(\"images.reduced/\")"
   ]
  },
  {
   "cell_type": "code",
   "execution_count": 5,
   "metadata": {
    "collapsed": false,
    "deletable": true,
    "editable": true
   },
   "outputs": [],
   "source": [
    "X_train, y_train, X_test, y_test = split_dataset(X, y)"
   ]
  },
  {
   "cell_type": "code",
   "execution_count": 6,
   "metadata": {
    "collapsed": false,
    "deletable": true,
    "editable": true
   },
   "outputs": [
    {
     "data": {
      "text/plain": [
       "{0: 'bert',\n",
       " 1: 'kermit_the_frog',\n",
       " 2: 'oscar_the_grouch',\n",
       " 3: 'rizzo_the_rat',\n",
       " 4: 'grover',\n",
       " 5: 'fozzie_bear',\n",
       " 6: 'swedish_chef',\n",
       " 7: 'gonzo',\n",
       " 8: 'cookie_monster',\n",
       " 9: 'ernie',\n",
       " 10: 'big_bird',\n",
       " 11: 'scooter',\n",
       " 12: 'elmo',\n",
       " 13: 'beaker',\n",
       " 14: 'rowlf_the_dog',\n",
       " 15: 'count',\n",
       " 16: 'miss_piggy',\n",
       " 17: 'animal'}"
      ]
     },
     "execution_count": 6,
     "metadata": {},
     "output_type": "execute_result"
    }
   ],
   "source": [
    "class_labels"
   ]
  },
  {
   "cell_type": "code",
   "execution_count": 7,
   "metadata": {
    "collapsed": false,
    "deletable": true,
    "editable": true
   },
   "outputs": [
    {
     "data": {
      "text/plain": [
       "(508, 3, 128, 128)"
      ]
     },
     "execution_count": 7,
     "metadata": {},
     "output_type": "execute_result"
    }
   ],
   "source": [
    "X_train.shape"
   ]
  },
  {
   "cell_type": "code",
   "execution_count": 8,
   "metadata": {
    "collapsed": false,
    "deletable": true,
    "editable": true
   },
   "outputs": [
    {
     "data": {
      "text/plain": [
       "(508,)"
      ]
     },
     "execution_count": 8,
     "metadata": {},
     "output_type": "execute_result"
    }
   ],
   "source": [
    "y_train.shape"
   ]
  },
  {
   "cell_type": "markdown",
   "metadata": {
    "deletable": true,
    "editable": true
   },
   "source": [
    "# ConvNet Architecture and Training\n",
    "\n",
    "Now we can define our ConvNet architecture and then train it using a GPU/CPU (I have a very cheap GPU, but it helps a lot):"
   ]
  },
  {
   "cell_type": "code",
   "execution_count": 9,
   "metadata": {
    "collapsed": false,
    "deletable": true,
    "editable": true
   },
   "outputs": [
    {
     "name": "stderr",
     "output_type": "stream",
     "text": [
      "/usr/local/lib/python2.7/dist-packages/lasagne/layers/conv.py:489: UserWarning: The `image_shape` keyword argument to `tensor.nnet.conv2d` is deprecated, it has been renamed to `input_shape`.\n",
      "  border_mode=border_mode)\n",
      "WARNING (theano.gof.cmodule): OPTIMIZATION WARNING: Theano was not able to find the default g++ parameters. This is needed to tune the compilation to your specific CPU. This can slow down the execution of Theano functions. Please submit the following lines to Theano's mailing list so that we can fix this problem:\n",
      " ['# 1 \"<stdin>\"\\n', '# 1 \"<built-in>\"\\n', '# 1 \"<command-line>\"\\n', '# 1 \"/usr/include/stdc-predef.h\" 1 3 4\\n', '# 1 \"<command-line>\" 2\\n', '# 1 \"<stdin>\"\\n', 'Using built-in specs.\\n', 'COLLECT_GCC=/usr/bin/g++\\n', 'Target: aarch64-linux-gnu\\n', \"Configured with: ../src/configure -v --with-pkgversion='Ubuntu/Linaro 5.4.0-6ubuntu1~16.04.4' --with-bugurl=file:///usr/share/doc/gcc-5/README.Bugs --enable-languages=c,ada,c++,java,go,d,fortran,objc,obj-c++ --prefix=/usr --program-suffix=-5 --enable-shared --enable-linker-build-id --libexecdir=/usr/lib --without-included-gettext --enable-threads=posix --libdir=/usr/lib --enable-nls --with-sysroot=/ --enable-clocale=gnu --enable-libstdcxx-debug --enable-libstdcxx-time=yes --with-default-libstdcxx-abi=new --enable-gnu-unique-object --disable-libquadmath --enable-plugin --with-system-zlib --disable-browser-plugin --enable-java-awt=gtk --enable-gtk-cairo --with-java-home=/usr/lib/jvm/java-1.5.0-gcj-5-arm64/jre --enable-java-home --with-jvm-root-dir=/usr/lib/jvm/java-1.5.0-gcj-5-arm64 --with-jvm-jar-dir=/usr/lib/jvm-exports/java-1.5.0-gcj-5-arm64 --with-arch-directory=aarch64 --with-ecj-jar=/usr/share/java/eclipse-ecj.jar --enable-multiarch --enable-fix-cortex-a53-843419 --disable-werror --enable-checking=release --build=aarch64-linux-gnu --host=aarch64-linux-gnu --target=aarch64-linux-gnu\\n\", 'Thread model: posix\\n', 'gcc version 5.4.0 20160609 (Ubuntu/Linaro 5.4.0-6ubuntu1~16.04.4) \\n', \"COLLECT_GCC_OPTIONS='-E' '-v' '-shared-libgcc' '-mlittle-endian' '-mabi=lp64'\\n\", ' /usr/lib/gcc/aarch64-linux-gnu/5/cc1 -E -quiet -v -imultiarch aarch64-linux-gnu - -mlittle-endian -mabi=lp64 -fstack-protector-strong -Wformat -Wformat-security\\n', 'ignoring nonexistent directory \"/usr/local/include/aarch64-linux-gnu\"\\n', 'ignoring nonexistent directory \"/usr/lib/gcc/aarch64-linux-gnu/5/../../../../aarch64-linux-gnu/include\"\\n', '#include \"...\" search starts here:\\n', '#include <...> search starts here:\\n', ' /usr/lib/gcc/aarch64-linux-gnu/5/include\\n', ' /usr/local/include\\n', ' /usr/lib/gcc/aarch64-linux-gnu/5/include-fixed\\n', ' /usr/include/aarch64-linux-gnu\\n', ' /usr/include\\n', 'End of search list.\\n', 'COMPILER_PATH=/usr/lib/gcc/aarch64-linux-gnu/5/:/usr/lib/gcc/aarch64-linux-gnu/5/:/usr/lib/gcc/aarch64-linux-gnu/:/usr/lib/gcc/aarch64-linux-gnu/5/:/usr/lib/gcc/aarch64-linux-gnu/\\n', 'LIBRARY_PATH=/usr/lib/gcc/aarch64-linux-gnu/5/:/usr/lib/gcc/aarch64-linux-gnu/5/../../../aarch64-linux-gnu/:/usr/lib/gcc/aarch64-linux-gnu/5/../../../../lib/:/lib/aarch64-linux-gnu/:/lib/../lib/:/usr/lib/aarch64-linux-gnu/:/usr/lib/../lib/:/usr/lib/gcc/aarch64-linux-gnu/5/../../../:/lib/:/usr/lib/\\n', \"COLLECT_GCC_OPTIONS='-E' '-v' '-shared-libgcc' '-mlittle-endian' '-mabi=lp64'\\n\"]\n"
     ]
    },
    {
     "name": "stdout",
     "output_type": "stream",
     "text": [
      "# Neural Network with 5226156 learnable parameters\n",
      "\n",
      "## Layer information\n",
      "\n",
      "  #  name      size\n",
      "---  --------  ----------\n",
      "  0  input     3x128x128\n",
      "  1  conv2d1a  32x126x126\n",
      "  2  conv2d1b  32x124x124\n",
      "  3  maxpool1  32x62x62\n",
      "  4  conv2d2a  24x60x60\n",
      "  5  conv2d2b  24x58x58\n",
      "  6  maxpool2  24x29x29\n",
      "  7  dropout1  24x29x29\n",
      "  8  dense1    256\n",
      "  9  dropout2  256\n",
      " 10  dense2    128\n",
      " 11  dropout3  128\n",
      " 12  output    28\n",
      "\n",
      "  epoch    trn loss    val loss    trn/val    valid acc  dur\n",
      "-------  ----------  ----------  ---------  -----------  -----\n",
      "      1     \u001b[36m3.35407\u001b[0m     \u001b[32m3.30422\u001b[0m    1.01509      0.02804  7.00s\n",
      "      2     \u001b[36m3.28501\u001b[0m     \u001b[32m3.24379\u001b[0m    1.01271      0.08411  6.75s\n",
      "      3     \u001b[36m3.26561\u001b[0m     \u001b[32m3.17767\u001b[0m    1.02767      0.08411  6.78s\n",
      "      4     \u001b[36m3.22844\u001b[0m     \u001b[32m3.14259\u001b[0m    1.02732      0.08411  6.77s\n",
      "      5     \u001b[36m3.18497\u001b[0m     \u001b[32m3.11971\u001b[0m    1.02092      0.08411  6.78s\n",
      "      6     \u001b[36m3.14643\u001b[0m     \u001b[32m3.09877\u001b[0m    1.01538      0.08411  6.81s\n",
      "      7     \u001b[36m3.13939\u001b[0m     \u001b[32m3.07989\u001b[0m    1.01932      0.08411  6.79s\n",
      "      8     3.14195     \u001b[32m3.03621\u001b[0m    1.03483      0.06542  6.82s\n",
      "      9     \u001b[36m3.10161\u001b[0m     \u001b[32m3.03218\u001b[0m    1.02290      0.08411  6.85s\n",
      "     10     \u001b[36m3.08639\u001b[0m     \u001b[32m3.00198\u001b[0m    1.02812      0.08411  6.87s\n",
      "     11     \u001b[36m3.08615\u001b[0m     \u001b[32m2.99131\u001b[0m    1.03170      0.08411  6.75s\n",
      "     12     \u001b[36m3.03367\u001b[0m     \u001b[32m2.97134\u001b[0m    1.02098      0.08411  6.95s\n",
      "     13     3.05526     \u001b[32m2.95552\u001b[0m    1.03375      0.08411  6.92s\n",
      "     14     \u001b[36m2.99620\u001b[0m     \u001b[32m2.92213\u001b[0m    1.02535      0.08411  6.86s\n",
      "     15     \u001b[36m2.97193\u001b[0m     \u001b[32m2.90240\u001b[0m    1.02395      0.08411  6.82s\n",
      "     16     2.98569     2.90540    1.02764      0.08411  6.78s\n",
      "     17     2.97249     \u001b[32m2.84520\u001b[0m    1.04474      0.09346  6.85s\n",
      "     18     \u001b[36m2.87993\u001b[0m     \u001b[32m2.79816\u001b[0m    1.02922      0.12150  6.87s\n",
      "     19     2.88365     \u001b[32m2.78018\u001b[0m    1.03722      0.14953  6.78s\n",
      "     20     \u001b[36m2.87974\u001b[0m     2.79945    1.02868      0.13084  6.96s\n",
      "     21     \u001b[36m2.85006\u001b[0m     \u001b[32m2.67083\u001b[0m    1.06711      0.17757  6.80s\n",
      "     22     \u001b[36m2.74650\u001b[0m     \u001b[32m2.63228\u001b[0m    1.04339      0.22430  6.82s\n",
      "     23     2.76861     2.65676    1.04210      0.19626  6.84s\n",
      "     24     2.75563     2.74348    1.00443      0.14953  6.90s\n",
      "     25     \u001b[36m2.73409\u001b[0m     \u001b[32m2.55892\u001b[0m    1.06846      0.23364  6.89s\n",
      "     26     \u001b[36m2.64497\u001b[0m     \u001b[32m2.44046\u001b[0m    1.08380      0.27103  6.80s\n",
      "     27     \u001b[36m2.60017\u001b[0m     2.90596    0.89477      0.21495  6.94s\n",
      "     28     2.66341     \u001b[32m2.43424\u001b[0m    1.09415      0.26168  6.93s\n",
      "     29     \u001b[36m2.49498\u001b[0m     \u001b[32m2.39866\u001b[0m    1.04016      0.27103  6.77s\n",
      "     30     2.57767     \u001b[32m2.27782\u001b[0m    1.13164      0.27103  6.96s\n",
      "     31     \u001b[36m2.35380\u001b[0m     2.28036    1.03220      0.26168  6.79s\n",
      "     32     2.45833     \u001b[32m2.20086\u001b[0m    1.11698      0.30841  6.89s\n",
      "     33     \u001b[36m2.20838\u001b[0m     2.41581    0.91414      0.27103  6.82s\n",
      "     34     2.71877     2.43527    1.11642      0.22430  6.86s\n",
      "     35     2.56832     2.25443    1.13923      0.31776  6.81s\n",
      "     36     2.30989     2.21650    1.04213      0.32710  6.81s\n",
      "     37     2.23417     \u001b[32m2.03378\u001b[0m    1.09853      0.37383  6.81s\n",
      "     38     \u001b[36m2.05641\u001b[0m     \u001b[32m1.98788\u001b[0m    1.03447      0.36449  6.80s\n",
      "     39     \u001b[36m1.92219\u001b[0m     \u001b[32m1.92719\u001b[0m    0.99740      0.40187  6.83s\n",
      "     40     \u001b[36m1.88317\u001b[0m     \u001b[32m1.89032\u001b[0m    0.99622      0.39252  6.79s\n",
      "     41     \u001b[36m1.80948\u001b[0m     1.97124    0.91794      0.42056  6.89s\n",
      "     42     1.81745     \u001b[32m1.83424\u001b[0m    0.99085      0.39252  6.79s\n",
      "     43     \u001b[36m1.66726\u001b[0m     \u001b[32m1.82087\u001b[0m    0.91564      0.41121  6.85s\n",
      "     44     \u001b[36m1.66282\u001b[0m     \u001b[32m1.77441\u001b[0m    0.93711      0.44860  6.74s\n",
      "     45     1.69811     \u001b[32m1.75405\u001b[0m    0.96811      0.46729  6.85s\n",
      "     46     \u001b[36m1.58385\u001b[0m     \u001b[32m1.60710\u001b[0m    0.98553      0.51402  6.81s\n",
      "     47     \u001b[36m1.49406\u001b[0m     \u001b[32m1.59058\u001b[0m    0.93932      0.52336  6.83s\n",
      "     48     \u001b[36m1.42535\u001b[0m     1.69216    0.84233      0.49533  6.83s\n",
      "     49     1.48320     \u001b[32m1.58590\u001b[0m    0.93524      0.53271  6.83s\n",
      "     50     1.43567     1.66311    0.86324      0.47664  6.79s\n",
      "     51     \u001b[36m1.39536\u001b[0m     1.63276    0.85460      0.51402  6.87s\n",
      "     52     \u001b[36m1.26658\u001b[0m     1.62964    0.77721      0.51402  6.76s\n",
      "     53     \u001b[36m1.20744\u001b[0m     1.81885    0.66385      0.46729  6.85s\n",
      "     54     \u001b[36m1.14039\u001b[0m     1.79977    0.63363      0.50467  6.83s\n",
      "     55     1.38442     1.60026    0.86512      0.47664  6.89s\n",
      "     56     \u001b[36m1.09592\u001b[0m     1.75122    0.62581      0.46729  6.88s\n",
      "     57     \u001b[36m1.00859\u001b[0m     1.60562    0.62817      0.57944  6.89s\n",
      "     58     \u001b[36m0.95537\u001b[0m     1.60076    0.59682      0.58879  6.91s\n",
      "     59     \u001b[36m0.82257\u001b[0m     1.61752    0.50854      0.57944  6.88s\n",
      "     60     \u001b[36m0.82192\u001b[0m     1.58959    0.51706      0.60748  6.87s\n",
      "     61     \u001b[36m0.69967\u001b[0m     1.71120    0.40888      0.56075  6.83s\n",
      "     62     0.73596     \u001b[32m1.58036\u001b[0m    0.46569      0.63551  6.93s\n",
      "     63     \u001b[36m0.64355\u001b[0m     1.81128    0.35530      0.57009  6.82s\n",
      "     64     0.65484     1.59352    0.41094      0.61682  6.84s\n",
      "     65     \u001b[36m0.61212\u001b[0m     1.60711    0.38088      0.61682  6.80s\n",
      "     66     0.73024     1.94156    0.37611      0.49533  6.89s\n",
      "     67     0.85758     \u001b[32m1.54783\u001b[0m    0.55405      0.58879  6.84s\n",
      "     68     0.67092     1.69024    0.39694      0.58879  6.84s\n",
      "     69     \u001b[36m0.60949\u001b[0m     1.74179    0.34992      0.59813  6.85s\n",
      "     70     \u001b[36m0.47842\u001b[0m     2.16180    0.22130      0.55140  6.88s\n",
      "     71     0.69975     1.99768    0.35028      0.58879  6.88s\n",
      "     72     0.55976     2.11561    0.26459      0.59813  6.84s\n",
      "     73     0.55309     2.51170    0.22020      0.55140  6.80s\n",
      "     74     1.20339     1.92593    0.62483      0.48598  6.88s\n",
      "     75     0.85509     1.70770    0.50073      0.56075  6.83s\n",
      "     76     0.79218     1.66859    0.47476      0.57944  6.77s\n",
      "     77     0.57630     1.77111    0.32539      0.54206  6.92s\n",
      "     78     0.60619     1.68075    0.36066      0.61682  6.87s\n",
      "     79     0.53087     1.71229    0.31004      0.56075  6.83s\n",
      "     80     0.51293     1.85085    0.27713      0.57944  6.81s\n",
      "     81     \u001b[36m0.46535\u001b[0m     1.64890    0.28222      0.62617  6.80s\n",
      "     82     \u001b[36m0.45454\u001b[0m     1.68936    0.26906      0.66355  6.87s\n",
      "     83     \u001b[36m0.45240\u001b[0m     1.91524    0.23621      0.58879  6.76s\n",
      "     84     \u001b[36m0.35599\u001b[0m     1.86132    0.19126      0.61682  6.80s\n",
      "     85     0.37431     1.78962    0.20916      0.63551  6.98s\n",
      "     86     0.38865     1.74541    0.22267      0.64486  6.86s\n",
      "     87     \u001b[36m0.29448\u001b[0m     1.72376    0.17083      0.63551  6.87s\n",
      "     88     \u001b[36m0.29309\u001b[0m     1.93854    0.15119      0.58879  6.84s\n",
      "     89     \u001b[36m0.26931\u001b[0m     2.08883    0.12893      0.57009  6.86s\n",
      "     90     0.30347     2.57428    0.11789      0.48598  6.77s\n",
      "     91     0.38309     1.94335    0.19713      0.57009  6.88s\n",
      "     92     0.27163     2.04311    0.13295      0.58879  6.89s\n",
      "     93     0.27509     2.20092    0.12499      0.58879  6.80s\n",
      "     94     0.54113     1.90973    0.28335      0.56075  6.83s\n",
      "     95     0.43581     1.72301    0.25293      0.57944  6.84s\n",
      "     96     0.33699     1.66721    0.20213      0.63551  6.83s\n",
      "     97     0.32009     1.88541    0.16977      0.57009  6.86s\n",
      "     98     0.30138     1.99227    0.15127      0.59813  6.81s\n",
      "     99     0.36217     2.03157    0.17827      0.57944  6.75s\n",
      "    100     0.32953     1.70705    0.19304      0.62617  6.83s\n"
     ]
    }
   ],
   "source": [
    "net1 = NeuralNet(\n",
    "    layers=[('input',    layers.InputLayer),\n",
    "            ('conv2d1a', layers.Conv2DLayer),\n",
    "            ('conv2d1b', layers.Conv2DLayer),\n",
    "            ('maxpool1', layers.MaxPool2DLayer),\n",
    "            ('conv2d2a', layers.Conv2DLayer),\n",
    "            ('conv2d2b', layers.Conv2DLayer),\n",
    "            ('maxpool2', layers.MaxPool2DLayer),\n",
    "            ('dropout1', layers.DropoutLayer),\n",
    "            ('dense1',   layers.DenseLayer),\n",
    "            ('dropout2', layers.DropoutLayer),\n",
    "            ('dense2',   layers.DenseLayer),\n",
    "            ('dropout3', layers.DropoutLayer),\n",
    "            ('output',   layers.DenseLayer),\n",
    "            ],\n",
    "    \n",
    "    # input layer\n",
    "    input_shape=(None, 3, 128, 128),\n",
    "    \n",
    "    # layer conv2d1a\n",
    "    conv2d1a_num_filters=32,\n",
    "    conv2d1a_filter_size=(3, 3),\n",
    "    conv2d1a_nonlinearity=lasagne.nonlinearities.rectify,\n",
    "    conv2d1a_W=lasagne.init.GlorotUniform(),    \n",
    "    \n",
    "    # layer conv2d1b\n",
    "    conv2d1b_num_filters=32,\n",
    "    conv2d1b_filter_size=(3, 3),\n",
    "    conv2d1b_nonlinearity=lasagne.nonlinearities.rectify,\n",
    "    conv2d1b_W=lasagne.init.GlorotUniform(),    \n",
    "    \n",
    "    # layer maxpool1\n",
    "    maxpool1_pool_size=(2, 2),  \n",
    "    \n",
    "    # layer conv2d2a\n",
    "    conv2d2a_num_filters=24,\n",
    "    conv2d2a_filter_size=(3, 3),\n",
    "    conv2d2a_nonlinearity=lasagne.nonlinearities.rectify,\n",
    "    \n",
    "    # layer conv2d2b\n",
    "    conv2d2b_num_filters=24,\n",
    "    conv2d2b_filter_size=(3, 3),\n",
    "    conv2d2b_nonlinearity=lasagne.nonlinearities.rectify,\n",
    "    \n",
    "    # layer maxpool2\n",
    "    maxpool2_pool_size=(2, 2),\n",
    "    \n",
    "    # dropout1\n",
    "    dropout1_p=0.5,    \n",
    "    \n",
    "    # dense1\n",
    "    dense1_num_units=256,\n",
    "    dense1_nonlinearity=lasagne.nonlinearities.rectify,    \n",
    "    \n",
    "    # dropout2\n",
    "    dropout2_p=0.5,   \n",
    "    \n",
    "    # dense2\n",
    "    dense2_num_units=128,\n",
    "    dense2_nonlinearity=lasagne.nonlinearities.rectify,    \n",
    "    \n",
    "    # dropout3\n",
    "    dropout3_p=0.5,   \n",
    " \n",
    "    # output\n",
    "    output_nonlinearity=lasagne.nonlinearities.softmax,\n",
    "    output_num_units=28,\n",
    "    \n",
    "    # optimization method params\n",
    "    update=nesterov_momentum,\n",
    "    update_learning_rate=0.01,\n",
    "    update_momentum=0.9,\n",
    "    max_epochs=100,\n",
    "    verbose=1,\n",
    "    )\n",
    "\n",
    "# Train the network\n",
    "nn = net1.fit(X_train, y_train)"
   ]
  },
  {
   "cell_type": "markdown",
   "metadata": {
    "deletable": true,
    "editable": true
   },
   "source": [
    "# Prediction and Confusion Matrix\n",
    "\n",
    "Now we can use the model to predict the entire testing dataset:\n",
    "\n"
   ]
  },
  {
   "cell_type": "code",
   "execution_count": 10,
   "metadata": {
    "collapsed": true,
    "deletable": true,
    "editable": true
   },
   "outputs": [],
   "source": [
    "preds = net1.predict(X_test)"
   ]
  },
  {
   "cell_type": "markdown",
   "metadata": {
    "deletable": true,
    "editable": true
   },
   "source": [
    "And we can also plot a confusion matrix to check the performance of the neural network classification:"
   ]
  },
  {
   "cell_type": "code",
   "execution_count": 11,
   "metadata": {
    "collapsed": false,
    "deletable": true,
    "editable": true
   },
   "outputs": [
    {
     "data": {
      "image/png": "[encoded data removed]",
      "text/plain": [
       "<matplotlib.figure.Figure at 0x7f4996d910>"
      ]
     },
     "metadata": {},
     "output_type": "display_data"
    }
   ],
   "source": [
    "cm = confusion_matrix(y_test, preds)\n",
    "plt.matshow(cm)\n",
    "plt.title('Confusion matrix')\n",
    "plt.colorbar()\n",
    "plt.ylabel('True label')\n",
    "plt.xlabel('Predicted label')\n",
    "fig = plt.gcf()\n",
    "fig.set_size_inches(10.5, 8.5)\n",
    "plt.show()"
   ]
  },
  {
   "cell_type": "markdown",
   "metadata": {
    "deletable": true,
    "editable": true
   },
   "source": [
    "# Filters Visualization\n",
    "\n",
    "We can also visualize the 32 filters from the first convolutional layer:"
   ]
  },
  {
   "cell_type": "code",
   "execution_count": 12,
   "metadata": {
    "collapsed": false,
    "deletable": true,
    "editable": true
   },
   "outputs": [
    {
     "data": {
      "text/plain": [
       "<module 'matplotlib.pyplot' from '/usr/local/lib/python2.7/dist-packages/matplotlib/pyplot.pyc'>"
      ]
     },
     "execution_count": 12,
     "metadata": {},
     "output_type": "execute_result"
    },
    {
     "data": {
      "image/png": "[encoded data removed]",
      "text/plain": [
       "<matplotlib.figure.Figure at 0x7f33a3b0d0>"
      ]
     },
     "metadata": {},
     "output_type": "display_data"
    },
    {
     "data": {
      "image/png": "[encoded data removed]",
      "text/plain": [
       "<matplotlib.figure.Figure at 0x7f32951710>"
      ]
     },
     "metadata": {},
     "output_type": "display_data"
    },
    {
     "data": {
      "image/png": "[encoded data removed]",
      "text/plain": [
       "<matplotlib.figure.Figure at 0x7f317a1b50>"
      ]
     },
     "metadata": {},
     "output_type": "display_data"
    }
   ],
   "source": [
    "visualize.plot_conv_weights(net1.layers_['conv2d1a'])"
   ]
  },
  {
   "cell_type": "markdown",
   "metadata": {
    "deletable": true,
    "editable": true
   },
   "source": [
    "# Theano layer functions and Feature Extraction\n",
    "\n",
    "Now it is time to create theano-compiled functions that will feed-forward the input data into the architecture up to the layer you’re interested. I’m going to get the functions for the output layer and also for the dense layer before the output layer:"
   ]
  },
  {
   "cell_type": "code",
   "execution_count": 13,
   "metadata": {
    "collapsed": false,
    "deletable": true,
    "editable": true
   },
   "outputs": [],
   "source": [
    "dense_layer = layers.get_output(net1.layers_['dense1'], deterministic=True)\n",
    "output_layer = layers.get_output(net1.layers_['output'], deterministic=True)\n",
    "input_var = net1.layers_['input'].input_var\n",
    "f_output = theano.function([input_var], output_layer)\n",
    "f_dense = theano.function([input_var], dense_layer)"
   ]
  },
  {
   "cell_type": "markdown",
   "metadata": {
    "deletable": true,
    "editable": true
   },
   "source": [
    "As you can see, we have now two theano functions called f_output and f_dense (for the output and dense layers). Please note that in order to get the layers here we are using a extra parameter called “deterministic“, this is to avoid the dropout layers affecting our feed-forward pass.\n",
    "\n",
    "We can now convert an example instance to the input format and then feed it into the theano function for the output layer:"
   ]
  },
  {
   "cell_type": "code",
   "execution_count": 14,
   "metadata": {
    "collapsed": false,
    "deletable": true,
    "editable": true
   },
   "outputs": [
    {
     "name": "stdout",
     "output_type": "stream",
     "text": [
      "500 loops, best of 3: 20 ms per loop\n"
     ]
    }
   ],
   "source": [
    "instance = X_test[0][None, :, :]\n",
    "%timeit -n 500 f_output(instance)"
   ]
  },
  {
   "cell_type": "markdown",
   "metadata": {
    "deletable": true,
    "editable": true
   },
   "source": [
    "We can also plot the output layer activations for the instance:"
   ]
  },
  {
   "cell_type": "code",
   "execution_count": 15,
   "metadata": {
    "collapsed": false,
    "deletable": true,
    "editable": true
   },
   "outputs": [
    {
     "data": {
      "text/plain": [
       "<Container object of 28 artists>"
      ]
     },
     "execution_count": 15,
     "metadata": {},
     "output_type": "execute_result"
    },
    {
     "data": {
      "image/png": "[encoded data removed]",
      "text/plain": [
       "<matplotlib.figure.Figure at 0x7f32951ed0>"
      ]
     },
     "metadata": {},
     "output_type": "display_data"
    }
   ],
   "source": [
    "pred = f_output(instance)\n",
    "N = pred.shape[1]\n",
    "plt.bar(range(N), pred.ravel())"
   ]
  },
  {
   "cell_type": "code",
   "execution_count": 16,
   "metadata": {
    "collapsed": false,
    "deletable": true,
    "editable": true
   },
   "outputs": [
    {
     "data": {
      "text/plain": [
       "<Container object of 256 artists>"
      ]
     },
     "execution_count": 16,
     "metadata": {},
     "output_type": "execute_result"
    },
    {
     "data": {
      "image/png": "[encoded data removed]",
      "text/plain": [
       "<matplotlib.figure.Figure at 0x7f4996d950>"
      ]
     },
     "metadata": {},
     "output_type": "display_data"
    }
   ],
   "source": [
    "pred = f_dense(instance)\n",
    "N = pred.shape[1]\n",
    "plt.bar(range(N), pred.ravel())"
   ]
  },
  {
   "cell_type": "markdown",
   "metadata": {
    "deletable": true,
    "editable": true
   },
   "source": [
    "You can now use the output of the these 256 activations as features on a linear classifier like Logistic Regression or SVM."
   ]
  },
  {
   "cell_type": "code",
   "execution_count": null,
   "metadata": {
    "collapsed": true,
    "deletable": true,
    "editable": true
   },
   "outputs": [],
   "source": []
  }
 ],
 "metadata": {
  "kernelspec": {
   "display_name": "Python 2",
   "language": "python",
   "name": "python2"
  },
  "language_info": {
   "codemirror_mode": {
    "name": "ipython",
    "version": 2
   },
   "file_extension": ".py",
   "mimetype": "text/x-python",
   "name": "python",
   "nbconvert_exporter": "python",
   "pygments_lexer": "ipython2",
   "version": "2.7.12"
  }
 },
 "nbformat": 4,
 "nbformat_minor": 2
}
